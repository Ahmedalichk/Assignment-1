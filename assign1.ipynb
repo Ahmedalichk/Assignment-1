{
 "cells": [
  {
   "cell_type": "markdown",
   "metadata": {},
   "source": [
    "# 1.type()\n"
   ]
  },
  {
   "cell_type": "markdown",
   "metadata": {},
   "source": [
    "type() is used to check the data type of variable\n"
   ]
  },
  {
   "cell_type": "code",
   "execution_count": 2,
   "metadata": {},
   "outputs": [
    {
     "data": {
      "text/plain": [
       "str"
      ]
     },
     "execution_count": 2,
     "metadata": {},
     "output_type": "execute_result"
    }
   ],
   "source": [
    "x = 'this is a string'\n",
    "a=type(x)"
   ]
  },
  {
   "cell_type": "code",
   "execution_count": 11,
   "metadata": {},
   "outputs": [
    {
     "name": "stdout",
     "output_type": "stream",
     "text": [
      " x is  <class 'int'> \n",
      " y is  <class 'float'> \n",
      " z is  <class 'str'>\n"
     ]
    }
   ],
   "source": [
    "x = 123\n",
    "y = 123.90\n",
    "z='hello'\n",
    "print(' x is ',type(x),'\\n', 'y is ',type(y),'\\n', 'z is ',type(z))"
   ]
  },
  {
   "cell_type": "code",
   "execution_count": 15,
   "metadata": {},
   "outputs": [
    {
     "name": "stdout",
     "output_type": "stream",
     "text": [
      "<class 'int'>\n",
      " x is  <class 'int'> \n",
      " y is  <class 'float'> \n",
      " z is  <class 'str'>\n"
     ]
    }
   ],
   "source": [
    "x = 123\n",
    "a = type(x)\n",
    "y = 123.90\n",
    "b = type(y)\n",
    "z='hello'\n",
    "c = type(z)\n",
    "print(' x is ',a,'\\n', 'y is ',b,'\\n', 'z is ',c)"
   ]
  },
  {
   "cell_type": "markdown",
   "metadata": {},
   "source": [
    "## 2.Strings different formats\n"
   ]
  },
  {
   "cell_type": "code",
   "execution_count": 16,
   "metadata": {},
   "outputs": [
    {
     "name": "stdout",
     "output_type": "stream",
     "text": [
      "PIAIC ISLAMABAD BATCH3\n",
      "Name : Ahmed\n",
      "Father_Name : Liaqat\n",
      "Univerdity : Bahria\n",
      "\n"
     ]
    }
   ],
   "source": [
    "name =\"Ahmed\"\n",
    "father_name =\"Liaqat\"\n",
    "uni =\"Bahria\"\n",
    "\n",
    "message='''PIAIC ISLAMABAD BATCH3\n",
    "Name : {}\n",
    "Father_Name : {}\n",
    "Univerdity : {}\n",
    "'''\n",
    "message1 = message.format(name, father_name, uni)\n",
    "\n",
    "print(message1)"
   ]
  },
  {
   "cell_type": "code",
   "execution_count": 17,
   "metadata": {},
   "outputs": [
    {
     "name": "stdout",
     "output_type": "stream",
     "text": [
      "Enter Your Name : Ahmed\n",
      "Enter Your Father Name : Liaqat\n",
      "Enter Your University Name : Bahria\n",
      "PIAIC ISLAMABAD BATCH3\n",
      "Name : Ahmed\n",
      "Father_Name : Liaqat\n",
      "Univerdity : Bahria\n",
      "\n"
     ]
    }
   ],
   "source": [
    "name = input('Enter Your Name : ')\n",
    "father_name = input('Enter Your Father Name : ')\n",
    "uni = input('Enter Your University Name : ')\n",
    "\n",
    "message='''PIAIC ISLAMABAD BATCH3\n",
    "Name : {}\n",
    "Father_Name : {}\n",
    "Univerdity : {}\n",
    "'''\n",
    "message1 = message.format(name, father_name, uni)\n",
    "\n",
    "print(message1)"
   ]
  },
  {
   "cell_type": "code",
   "execution_count": 18,
   "metadata": {},
   "outputs": [
    {
     "name": "stdout",
     "output_type": "stream",
     "text": [
      "Enter Your Name : Ahmed\n",
      "Enter Your Father Name : Liaqat\n",
      "Enter Your University Name : Bahria\n",
      "Enter Your maths marks : 90\n",
      "Enter Your english marks : 90\n",
      "Enter Your computer marks : 91\n",
      "\n",
      " PIAIC ISLAMABAD BATCH3\n",
      "Name : Ahmed\n",
      "Father_Name : Liaqat\n",
      "University : Bahria\n",
      "Maths_Marks :90\n",
      "English_Marks :90\n",
      "Computer_Marks :91\n",
      "Total_marks :271 \n",
      "Percentage: 90.33%\n",
      "\n"
     ]
    }
   ],
   "source": [
    "name = input('Enter Your Name : ')\n",
    "father_name = input('Enter Your Father Name : ')\n",
    "uni = input('Enter Your University Name : ')\n",
    "maths_marks = int(input('Enter Your maths marks : '))\n",
    "eng_marks = int(input('Enter Your english marks : '))\n",
    "comp_marks = int(input('Enter Your computer marks : '))\n",
    "total_marks = maths_marks + eng_marks + comp_marks\n",
    "per = round(((total_marks / 300) * 100),2)\n",
    "\n",
    "message='''PIAIC ISLAMABAD BATCH3\n",
    "Name : {0}\n",
    "Father_Name : {1}\n",
    "University : {2}\n",
    "Maths_Marks :{3}\n",
    "English_Marks :{4}\n",
    "Computer_Marks :{5}\n",
    "Total_marks :{6} \n",
    "Percentage: {7}%\n",
    "'''\n",
    "message1 = message.format(name,father_name,uni,maths_marks,eng_marks,comp_marks,total_marks,per)\n",
    "\n",
    "print('\\n',message1)"
   ]
  },
  {
   "cell_type": "code",
   "execution_count": 19,
   "metadata": {},
   "outputs": [
    {
     "name": "stdout",
     "output_type": "stream",
     "text": [
      "enter number 1: 4\n",
      "enter number 2: 6\n",
      "4 + 6 = 10\n"
     ]
    }
   ],
   "source": [
    "num1 = int(input('enter number 1: '))\n",
    "num2 = int(input('enter number 2: '))\n",
    "\n",
    "result = num1 + num2\n",
    "\n",
    "print('{0} + {1} = {2}'.format(num1,num2,result))"
   ]
  },
  {
   "cell_type": "code",
   "execution_count": 23,
   "metadata": {},
   "outputs": [
    {
     "name": "stdout",
     "output_type": "stream",
     "text": [
      "enter number 1: 3\n",
      "enter number 2: 7\n",
      "3 + 7 = 10\n"
     ]
    }
   ],
   "source": [
    "num1 = int(input('enter number 1: '))\n",
    "num2 = int(input('enter number 2: '))\n",
    "a = '{0} + {1} = {2}'\n",
    "b = a.format(num1,num2,result)\n",
    "print(b)"
   ]
  },
  {
   "cell_type": "markdown",
   "metadata": {},
   "source": [
    "# 3.Upper Lower case"
   ]
  },
  {
   "cell_type": "code",
   "execution_count": 24,
   "metadata": {},
   "outputs": [
    {
     "data": {
      "text/plain": [
       "'Ahmed Ali'"
      ]
     },
     "execution_count": 24,
     "metadata": {},
     "output_type": "execute_result"
    }
   ],
   "source": [
    "name = 'ahmed ali'\n",
    "name.title()"
   ]
  },
  {
   "cell_type": "code",
   "execution_count": 25,
   "metadata": {},
   "outputs": [
    {
     "data": {
      "text/plain": [
       "'ahmed ali'"
      ]
     },
     "execution_count": 25,
     "metadata": {},
     "output_type": "execute_result"
    }
   ],
   "source": [
    "name.lower()"
   ]
  },
  {
   "cell_type": "code",
   "execution_count": 26,
   "metadata": {},
   "outputs": [
    {
     "data": {
      "text/plain": [
       "'AHMED ALI'"
      ]
     },
     "execution_count": 26,
     "metadata": {},
     "output_type": "execute_result"
    }
   ],
   "source": [
    "name.upper()"
   ]
  },
  {
   "cell_type": "markdown",
   "metadata": {},
   "source": [
    "\n",
    "# 4.abs()"
   ]
  },
  {
   "cell_type": "markdown",
   "metadata": {},
   "source": [
    "# To get absolute value"
   ]
  },
  {
   "cell_type": "code",
   "execution_count": 27,
   "metadata": {},
   "outputs": [
    {
     "data": {
      "text/plain": [
       "9"
      ]
     },
     "execution_count": 27,
     "metadata": {},
     "output_type": "execute_result"
    }
   ],
   "source": [
    "abs(-9)"
   ]
  },
  {
   "cell_type": "code",
   "execution_count": 28,
   "metadata": {},
   "outputs": [
    {
     "data": {
      "text/plain": [
       "9"
      ]
     },
     "execution_count": 28,
     "metadata": {},
     "output_type": "execute_result"
    }
   ],
   "source": [
    "abs(9)"
   ]
  },
  {
   "cell_type": "code",
   "execution_count": 29,
   "metadata": {},
   "outputs": [
    {
     "data": {
      "text/plain": [
       "0"
      ]
     },
     "execution_count": 29,
     "metadata": {},
     "output_type": "execute_result"
    }
   ],
   "source": [
    "abs(0)"
   ]
  },
  {
   "cell_type": "markdown",
   "metadata": {},
   "source": [
    "# 5.bin() To convert integer to binary"
   ]
  },
  {
   "cell_type": "code",
   "execution_count": 30,
   "metadata": {},
   "outputs": [
    {
     "data": {
      "text/plain": [
       "'0b0'"
      ]
     },
     "execution_count": 30,
     "metadata": {},
     "output_type": "execute_result"
    }
   ],
   "source": [
    "bin(0)"
   ]
  },
  {
   "cell_type": "code",
   "execution_count": 31,
   "metadata": {},
   "outputs": [
    {
     "data": {
      "text/plain": [
       "'0b11'"
      ]
     },
     "execution_count": 31,
     "metadata": {},
     "output_type": "execute_result"
    }
   ],
   "source": [
    "bin(3)"
   ]
  },
  {
   "cell_type": "code",
   "execution_count": 35,
   "metadata": {},
   "outputs": [
    {
     "data": {
      "text/plain": [
       "'-0b100'"
      ]
     },
     "execution_count": 35,
     "metadata": {},
     "output_type": "execute_result"
    }
   ],
   "source": [
    "bin(-4)"
   ]
  },
  {
   "cell_type": "code",
   "execution_count": null,
   "metadata": {},
   "outputs": [],
   "source": []
  }
 ],
 "metadata": {
  "kernelspec": {
   "display_name": "Python 3",
   "language": "python",
   "name": "python3"
  },
  "language_info": {
   "codemirror_mode": {
    "name": "ipython",
    "version": 3
   },
   "file_extension": ".py",
   "mimetype": "text/x-python",
   "name": "python",
   "nbconvert_exporter": "python",
   "pygments_lexer": "ipython3",
   "version": "3.6.5"
  }
 },
 "nbformat": 4,
 "nbformat_minor": 2
}
